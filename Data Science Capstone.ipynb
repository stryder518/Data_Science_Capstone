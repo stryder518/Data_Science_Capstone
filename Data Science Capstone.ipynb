{
    "cells": [
        {
            "cell_type": "code",
            "execution_count": 3,
            "metadata": {},
            "outputs": [
                {
                    "name": "stdout",
                    "output_type": "stream",
                    "text": "Hello Capstone Project Course!\n"
                }
            ],
            "source": "import pandas as pd\nimport numpy as np\n\nprint('Hello Capstone Project Course!')"
        },
        {
            "cell_type": "code",
            "execution_count": null,
            "metadata": {},
            "outputs": [],
            "source": "https://api.foursqure.com/v2/venues/search?#searches the \n        client_id = ZWTQAOKUKGQC4LQET202IG2JQWKPM3ZX4KCIRMG040XFWKTQ&client_secret=0LNJ50CDAJKOZ0WGWGHYBXD3KBA2JT4JSPKXPLFGQOVEVT1B&v=20180602\n            &ll=40.73,-74.01&query=coffee\n        "
        }
    ],
    "metadata": {
        "kernelspec": {
            "display_name": "Python 3.6",
            "language": "python",
            "name": "python3"
        },
        "language_info": {
            "codemirror_mode": {
                "name": "ipython",
                "version": 3
            },
            "file_extension": ".py",
            "mimetype": "text/x-python",
            "name": "python",
            "nbconvert_exporter": "python",
            "pygments_lexer": "ipython3",
            "version": "3.6.9"
        }
    },
    "nbformat": 4,
    "nbformat_minor": 1
}